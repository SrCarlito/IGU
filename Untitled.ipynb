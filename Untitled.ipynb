{
 "cells": [
  {
   "cell_type": "code",
   "execution_count": 3,
   "id": "197c7efe",
   "metadata": {},
   "outputs": [],
   "source": [
    "import pandas as pd\n"
   ]
  },
  {
   "cell_type": "code",
   "execution_count": 11,
   "id": "a425ae1b",
   "metadata": {},
   "outputs": [],
   "source": [
    "def openCsv(fileRoute):\n",
    "    try:\n",
    "        csvOpened = pd.read_csv(fileRoute)\n",
    "        return csvOpened\n",
    "    except Exception as e:\n",
    "        print(\"Error al abrir el archivo:\", e)\n",
    "        return"
   ]
  },
  {
   "cell_type": "code",
   "execution_count": 12,
   "id": "be90fe8b",
   "metadata": {},
   "outputs": [],
   "source": [
    "data = openCsv('datos.csv')"
   ]
  },
  {
   "cell_type": "code",
   "execution_count": 14,
   "id": "3fa5df74",
   "metadata": {},
   "outputs": [
    {
     "data": {
      "text/html": [
       "<div>\n",
       "<style scoped>\n",
       "    .dataframe tbody tr th:only-of-type {\n",
       "        vertical-align: middle;\n",
       "    }\n",
       "\n",
       "    .dataframe tbody tr th {\n",
       "        vertical-align: top;\n",
       "    }\n",
       "\n",
       "    .dataframe thead th {\n",
       "        text-align: right;\n",
       "    }\n",
       "</style>\n",
       "<table border=\"1\" class=\"dataframe\">\n",
       "  <thead>\n",
       "    <tr style=\"text-align: right;\">\n",
       "      <th></th>\n",
       "      <th>PM1.0</th>\n",
       "      <th>PM2.5</th>\n",
       "      <th>PM10</th>\n",
       "      <th>D.3</th>\n",
       "      <th>D.5</th>\n",
       "      <th>D1.0</th>\n",
       "      <th>D2.5</th>\n",
       "      <th>D5.0</th>\n",
       "      <th>D10</th>\n",
       "      <th>T</th>\n",
       "      <th>H</th>\n",
       "    </tr>\n",
       "  </thead>\n",
       "  <tbody>\n",
       "    <tr>\n",
       "      <th>0</th>\n",
       "      <td>60</td>\n",
       "      <td>73</td>\n",
       "      <td>76</td>\n",
       "      <td>9384</td>\n",
       "      <td>2900</td>\n",
       "      <td>342</td>\n",
       "      <td>12</td>\n",
       "      <td>5</td>\n",
       "      <td>2</td>\n",
       "      <td>19.3</td>\n",
       "      <td>50.0</td>\n",
       "    </tr>\n",
       "    <tr>\n",
       "      <th>1</th>\n",
       "      <td>59</td>\n",
       "      <td>74</td>\n",
       "      <td>77</td>\n",
       "      <td>9399</td>\n",
       "      <td>2909</td>\n",
       "      <td>356</td>\n",
       "      <td>12</td>\n",
       "      <td>5</td>\n",
       "      <td>1</td>\n",
       "      <td>19.3</td>\n",
       "      <td>50.1</td>\n",
       "    </tr>\n",
       "    <tr>\n",
       "      <th>2</th>\n",
       "      <td>59</td>\n",
       "      <td>73</td>\n",
       "      <td>76</td>\n",
       "      <td>9405</td>\n",
       "      <td>2904</td>\n",
       "      <td>339</td>\n",
       "      <td>12</td>\n",
       "      <td>5</td>\n",
       "      <td>1</td>\n",
       "      <td>19.3</td>\n",
       "      <td>50.0</td>\n",
       "    </tr>\n",
       "    <tr>\n",
       "      <th>3</th>\n",
       "      <td>60</td>\n",
       "      <td>74</td>\n",
       "      <td>76</td>\n",
       "      <td>9513</td>\n",
       "      <td>2933</td>\n",
       "      <td>324</td>\n",
       "      <td>12</td>\n",
       "      <td>4</td>\n",
       "      <td>1</td>\n",
       "      <td>19.3</td>\n",
       "      <td>50.0</td>\n",
       "    </tr>\n",
       "    <tr>\n",
       "      <th>4</th>\n",
       "      <td>60</td>\n",
       "      <td>74</td>\n",
       "      <td>76</td>\n",
       "      <td>9513</td>\n",
       "      <td>2931</td>\n",
       "      <td>324</td>\n",
       "      <td>11</td>\n",
       "      <td>4</td>\n",
       "      <td>1</td>\n",
       "      <td>19.3</td>\n",
       "      <td>49.9</td>\n",
       "    </tr>\n",
       "    <tr>\n",
       "      <th>...</th>\n",
       "      <td>...</td>\n",
       "      <td>...</td>\n",
       "      <td>...</td>\n",
       "      <td>...</td>\n",
       "      <td>...</td>\n",
       "      <td>...</td>\n",
       "      <td>...</td>\n",
       "      <td>...</td>\n",
       "      <td>...</td>\n",
       "      <td>...</td>\n",
       "      <td>...</td>\n",
       "    </tr>\n",
       "    <tr>\n",
       "      <th>1995</th>\n",
       "      <td>11</td>\n",
       "      <td>13</td>\n",
       "      <td>13</td>\n",
       "      <td>1773</td>\n",
       "      <td>543</td>\n",
       "      <td>53</td>\n",
       "      <td>1</td>\n",
       "      <td>0</td>\n",
       "      <td>0</td>\n",
       "      <td>19.2</td>\n",
       "      <td>46.9</td>\n",
       "    </tr>\n",
       "    <tr>\n",
       "      <th>1996</th>\n",
       "      <td>11</td>\n",
       "      <td>13</td>\n",
       "      <td>13</td>\n",
       "      <td>1773</td>\n",
       "      <td>543</td>\n",
       "      <td>53</td>\n",
       "      <td>1</td>\n",
       "      <td>0</td>\n",
       "      <td>0</td>\n",
       "      <td>19.3</td>\n",
       "      <td>46.9</td>\n",
       "    </tr>\n",
       "    <tr>\n",
       "      <th>1997</th>\n",
       "      <td>11</td>\n",
       "      <td>13</td>\n",
       "      <td>13</td>\n",
       "      <td>1773</td>\n",
       "      <td>543</td>\n",
       "      <td>53</td>\n",
       "      <td>1</td>\n",
       "      <td>0</td>\n",
       "      <td>0</td>\n",
       "      <td>19.3</td>\n",
       "      <td>46.9</td>\n",
       "    </tr>\n",
       "    <tr>\n",
       "      <th>1998</th>\n",
       "      <td>10</td>\n",
       "      <td>12</td>\n",
       "      <td>12</td>\n",
       "      <td>1704</td>\n",
       "      <td>523</td>\n",
       "      <td>50</td>\n",
       "      <td>1</td>\n",
       "      <td>0</td>\n",
       "      <td>0</td>\n",
       "      <td>19.3</td>\n",
       "      <td>46.9</td>\n",
       "    </tr>\n",
       "    <tr>\n",
       "      <th>1999</th>\n",
       "      <td>10</td>\n",
       "      <td>12</td>\n",
       "      <td>12</td>\n",
       "      <td>1704</td>\n",
       "      <td>523</td>\n",
       "      <td>50</td>\n",
       "      <td>1</td>\n",
       "      <td>0</td>\n",
       "      <td>0</td>\n",
       "      <td>19.3</td>\n",
       "      <td>46.9</td>\n",
       "    </tr>\n",
       "  </tbody>\n",
       "</table>\n",
       "<p>2000 rows × 11 columns</p>\n",
       "</div>"
      ],
      "text/plain": [
       "      PM1.0  PM2.5  PM10   D.3   D.5  D1.0  D2.5  D5.0  D10     T     H\n",
       "0        60     73    76  9384  2900   342    12     5    2  19.3  50.0\n",
       "1        59     74    77  9399  2909   356    12     5    1  19.3  50.1\n",
       "2        59     73    76  9405  2904   339    12     5    1  19.3  50.0\n",
       "3        60     74    76  9513  2933   324    12     4    1  19.3  50.0\n",
       "4        60     74    76  9513  2931   324    11     4    1  19.3  49.9\n",
       "...     ...    ...   ...   ...   ...   ...   ...   ...  ...   ...   ...\n",
       "1995     11     13    13  1773   543    53     1     0    0  19.2  46.9\n",
       "1996     11     13    13  1773   543    53     1     0    0  19.3  46.9\n",
       "1997     11     13    13  1773   543    53     1     0    0  19.3  46.9\n",
       "1998     10     12    12  1704   523    50     1     0    0  19.3  46.9\n",
       "1999     10     12    12  1704   523    50     1     0    0  19.3  46.9\n",
       "\n",
       "[2000 rows x 11 columns]"
      ]
     },
     "execution_count": 14,
     "metadata": {},
     "output_type": "execute_result"
    }
   ],
   "source": [
    "data"
   ]
  },
  {
   "cell_type": "code",
   "execution_count": 16,
   "id": "4a46d146",
   "metadata": {},
   "outputs": [],
   "source": [
    "from scipy.signal import find_peaks"
   ]
  },
  {
   "cell_type": "code",
   "execution_count": 25,
   "id": "5007ac19",
   "metadata": {},
   "outputs": [
    {
     "data": {
      "text/plain": [
       "(array([  49,  183,  519,  607, 1393], dtype=int64),\n",
       " {'peak_heights': array([226., 172., 220., 139., 158.])})"
      ]
     },
     "execution_count": 25,
     "metadata": {},
     "output_type": "execute_result"
    }
   ],
   "source": [
    "results =  find_peaks(data['PM1.0'], distance=20)\n",
    "results\n",
    "    "
   ]
  },
  {
   "cell_type": "code",
   "execution_count": 72,
   "id": "c1689d10",
   "metadata": {},
   "outputs": [],
   "source": [
    "allpeaks2 = find_peaks(data['PM1.0'], distance=20)\n",
    "allpeaks = find_peaks(data['PM1.0'], distance=20)[0][:-6:-1]\n"
   ]
  },
  {
   "cell_type": "code",
   "execution_count": 73,
   "id": "cfe3c1a0",
   "metadata": {},
   "outputs": [
    {
     "data": {
      "text/plain": [
       "array([1994, 1969, 1943, 1897, 1860], dtype=int64)"
      ]
     },
     "execution_count": 73,
     "metadata": {},
     "output_type": "execute_result"
    }
   ],
   "source": [
    "allpeaks"
   ]
  },
  {
   "cell_type": "code",
   "execution_count": 74,
   "id": "e4715dd7",
   "metadata": {},
   "outputs": [
    {
     "data": {
      "text/plain": [
       "(array([  12,   49,   94,  117,  157,  183,  204,  244,  264,  302,  327,\n",
       "         351,  375,  409,  437,  493,  519,  540,  586,  607,  634,  658,\n",
       "         685,  726,  748,  770,  800,  823,  845,  875,  928,  968,  997,\n",
       "        1018, 1051, 1075, 1095, 1132, 1159, 1179, 1231, 1264, 1286, 1308,\n",
       "        1352, 1393, 1452, 1472, 1495, 1519, 1556, 1593, 1627, 1653, 1675,\n",
       "        1713, 1733, 1753, 1810, 1860, 1897, 1943, 1969, 1994], dtype=int64),\n",
       " {})"
      ]
     },
     "execution_count": 74,
     "metadata": {},
     "output_type": "execute_result"
    }
   ],
   "source": [
    "allpeaks2"
   ]
  },
  {
   "cell_type": "code",
   "execution_count": 77,
   "id": "f51dcc31",
   "metadata": {},
   "outputs": [
    {
     "data": {
      "text/plain": [
       "59.0"
      ]
     },
     "execution_count": 77,
     "metadata": {},
     "output_type": "execute_result"
    }
   ],
   "source": [
    "data.iloc[1][0]"
   ]
  }
 ],
 "metadata": {
  "kernelspec": {
   "display_name": "Python 3 (ipykernel)",
   "language": "python",
   "name": "python3"
  },
  "language_info": {
   "codemirror_mode": {
    "name": "ipython",
    "version": 3
   },
   "file_extension": ".py",
   "mimetype": "text/x-python",
   "name": "python",
   "nbconvert_exporter": "python",
   "pygments_lexer": "ipython3",
   "version": "3.11.3"
  }
 },
 "nbformat": 4,
 "nbformat_minor": 5
}
